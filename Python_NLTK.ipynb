{
  "nbformat": 4,
  "nbformat_minor": 0,
  "metadata": {
    "colab": {
      "provenance": []
    },
    "kernelspec": {
      "name": "python3",
      "display_name": "Python 3"
    },
    "language_info": {
      "name": "python"
    }
  },
  "cells": [
    {
      "cell_type": "code",
      "execution_count": 2,
      "metadata": {
        "colab": {
          "base_uri": "https://localhost:8080/"
        },
        "id": "tahk_2hgWZFs",
        "outputId": "0a24741c-6714-4988-d103-5b8458eb38ce"
      },
      "outputs": [
        {
          "output_type": "stream",
          "name": "stderr",
          "text": [
            "[nltk_data] Downloading package cess_esp to /root/nltk_data...\n",
            "[nltk_data]   Unzipping corpora/cess_esp.zip.\n"
          ]
        },
        {
          "output_type": "execute_result",
          "data": {
            "text/plain": [
              "True"
            ]
          },
          "metadata": {},
          "execution_count": 2
        }
      ],
      "source": [
        "import nltk\n",
        "nltk.download('cess_esp')"
      ]
    },
    {
      "cell_type": "code",
      "source": [
        "import re\n",
        "corpus = nltk.corpus.cess_esp.sents()\n",
        "print(corpus)\n",
        "print(len(corpus))"
      ],
      "metadata": {
        "colab": {
          "base_uri": "https://localhost:8080/"
        },
        "id": "oX6wnf7LZC_O",
        "outputId": "de9cc606-06f0-4581-eedb-e3d1f87d759c"
      },
      "execution_count": 4,
      "outputs": [
        {
          "output_type": "stream",
          "name": "stdout",
          "text": [
            "[['El', 'grupo', 'estatal', 'Electricité_de_France', '-Fpa-', 'EDF', '-Fpt-', 'anunció', 'hoy', ',', 'jueves', ',', 'la', 'compra', 'del', '51_por_ciento', 'de', 'la', 'empresa', 'mexicana', 'Electricidad_Águila_de_Altamira', '-Fpa-', 'EAA', '-Fpt-', ',', 'creada', 'por', 'el', 'japonés', 'Mitsubishi_Corporation', 'para', 'poner_en_marcha', 'una', 'central', 'de', 'gas', 'de', '495', 'megavatios', '.'], ['Una', 'portavoz', 'de', 'EDF', 'explicó', 'a', 'EFE', 'que', 'el', 'proyecto', 'para', 'la', 'construcción', 'de', 'Altamira_2', ',', 'al', 'norte', 'de', 'Tampico', ',', 'prevé', 'la', 'utilización', 'de', 'gas', 'natural', 'como', 'combustible', 'principal', 'en', 'una', 'central', 'de', 'ciclo', 'combinado', 'que', 'debe', 'empezar', 'a', 'funcionar', 'en', 'mayo_del_2002', '.'], ...]\n",
            "6030\n"
          ]
        }
      ]
    },
    {
      "cell_type": "code",
      "source": [
        "flatten = [w for l in corpus for w in l]"
      ],
      "metadata": {
        "colab": {
          "base_uri": "https://localhost:8080/"
        },
        "id": "wGUZ-jTYZoH_",
        "outputId": "1a792115-b1c6-40de-f502-a43326a50832"
      },
      "execution_count": 8,
      "outputs": [
        {
          "output_type": "stream",
          "name": "stdout",
          "text": [
            "El\n",
            "192686\n"
          ]
        }
      ]
    },
    {
      "cell_type": "code",
      "source": [
        "print(flatten[0:10])\n",
        "print(len(flatten))"
      ],
      "metadata": {
        "colab": {
          "base_uri": "https://localhost:8080/"
        },
        "id": "j85Px539aZLl",
        "outputId": "cb7f8c4e-2e86-42b0-da86-1c9fb4057512"
      },
      "execution_count": 9,
      "outputs": [
        {
          "output_type": "stream",
          "name": "stdout",
          "text": [
            "['El', 'grupo', 'estatal', 'Electricité_de_France', '-Fpa-', 'EDF', '-Fpt-', 'anunció', 'hoy', ',']\n",
            "192686\n"
          ]
        }
      ]
    },
    {
      "cell_type": "code",
      "source": [
        "arr = [w for w in flatten if re.search('yo', w)]\n",
        "print(arr)"
      ],
      "metadata": {
        "colab": {
          "base_uri": "https://localhost:8080/"
        },
        "id": "OkNlBFjBbJT6",
        "outputId": "3f2a6f00-cf9d-4431-ae6f-49cccf771ce9"
      },
      "execution_count": 11,
      "outputs": [
        {
          "output_type": "stream",
          "name": "stdout",
          "text": [
            "['mayo_del_2002', 'mayoritaria', 'mayoritario', 'Javier_Sotomayor', 'Sotomayor', 'Sotomayor', 'mayoría', 'mayorías', 'mayoritario', 'mayor', 'apoyo', 'ensayos', 'cuyo', 'mayor', 'mayor', 'mayor', 'apoyo', 'apoyo', 'apoyo', 'mayoría', 'apoyo', 'Espanyol', 'Espanyol', 'Rayo_Vallecano', 'Espanyol', 'Espanyol', 'yo', 'Espanyol', 'mayoría', 'mayoritarios', 'apoyo', 'mayor', 'apoyo', 'mayores', 'mayores', 'mayor', 'mayor', 'cuyo', '26_de_mayo', '19_de_mayo', 'mayor', 'mayo', 'mayo', 'mayoría', 'mayoritario', 'apoyo', 'mayoría', 'uruguayo', 'mayor', 'uruguayo', 'mayoría', 'mayoría', 'cuyo', 'mayor', 'mayo', '20_de_mayo', '28_de_mayo', 'mayores', 'mayoría', 'pasado_26_de_mayo', 'mayoría', 'apoyo', 'apoyo', 'Jaime_Mayor_Oreja', 'Mayor_Oreja', 'cuyo', '19_de_mayo', 'mayo_de_1999', '19_de_mayo', 'mayores', 'mayor', 'malayo', 'mayor', 'Marlon_Ayoví', 'mayoría', 'mayoritariamente', 'mayor', 'mayoría', 'mayoría', 'apoyo', 'apoyos', 'mayor', 'apoyo', 'mayoritariamente', 'mayoría', 'mayores', 'mayo', 'mayor', 'mayor', 'mayor', 'mayoría', 'mayo_de_1999', 'Rayo_Vallecano', 'Rayo', 'Rayo_Vallecano', 'Rayo', 'mayoría', 'cuyo', 'Espanyol', 'mayor', 'cuyo', 'apoyo', '20_de_mayo_de_1996', 'mayor', 'mayor', 'mayoritariamente', 'mayor', 'mayor', 'mayores', 'mayor', 'mayor', 'mayor', 'mayor', 'mayor', 'mayor', 'apoyo', 'mayor', 'yo', 'cuyo', 'Espanyol', 'mayoría', 'paraguayo', 'Espanyol', 'paraguayo', 'Espanyol', 'apoyo', 'el_suyo', 'mayor', 'mayor', 'mayoría', 'apoyo', 'apoyo', 'apoyo', 'mayores', 'Estado_Mayor_Conjunto', 'mayoría', 'mayor', 'mayor', 'mayoría', 'cuyo', 'mayor', 'mayoría', 'apoyo', 'Reynard/Toyota', 'mayores', 'mayor', 'mayo', 'apoyo', 'mayor', 'mayor', 'mayor', 'mayor', 'mayor', 'mayor', 'ensayos', 'ensayos', 'ensayos', 'mayoría', 'apoyo', 'apoyos', 'apoyo', 'mayor', 'mayor', 'suyo', 'Jorge_Hoyos', '9_de_mayo_de_1968', 'Javier_Sotomayor', 'Sotomayor', 'Sotomayor', 'yo', 'Loyola_de_Palacio', 'yo', 'yo', 'mayoría', 'mayo', 'apoyo', 'mayor', 'mayoría', 'apoyo', 'apoyo', 'paraguayo', 'mayoritariamente', 'yo', 'mayor', 'apoyo', 'apoyo', 'mayor', 'yo', 'mayorías', 'mayor', 'mayor', 'paraguayo', 'uruguayo', 'Fuenmayor', 'mayor', 'yo', 'mayoritariamente', 'mayor', 'mayor', 'mayores', '28_de_mayo', 'cuyo', 'Loyola_de_Palacio', 'apoyo', 'Loyola_de_Palacio', 'Loyola_de_Palacio', 'cuyos', 'mayor', 'mayo', 'mayor', 'Mayor_Oreja', 'mayoría', 'mayor', 'cuyo', 'cuyos', 'apoyo', 'uruguayo-mexicano', '7_de_mayo', '20_de_mayo', 'mayor', 'yo', 'mayores', 'mayoría', 'mayores', 'apoyo', 'apoyos', 'apoyo', 'mayoría', 'mayor', 'mayores', 'mayor', 'mayoría', 'mayor', 'Estado_Mayor', 'Estado_Mayor', 'mayoría', 'mayor', '5_de_mayo', 'cuyos', 'mayor', 'yo', 'Mayor_Oreja', 'mayor', 'apoyo', 'Mayores', 'mayor', 'cuyo', 'mayoristas', 'suyos', 'mayor', 'cuyos', 'cuyo', 'cuyo', 'mayo', 'mayor', 'apoyo', 'mayoría', 'mayoría', 'mayor', 'mayo', 'mayo_de_1999', 'mayo', 'mayores', 'pasado_mes_de_mayo', 'mayo_de_1999', 'pasado_mayo', '17_de_mayo_de_1997', 'mayo', 'mayoría', 'cuyo', 'mayo_pasado', 'mes_de_mayo', 'mayo_pasado', 'mayo_de_1998', 'mayoritario', 'mayo_pasado', 'mayo_pasado', 'mayo', 'mayo', 'mayo', 'mayo_de_1999', 'mayores', 'mayo', 'mayo_de_1999', '17_de_mayo_de_1997', 'mayo', 'mayores', 'mayo', 'cuyos', 'cuyo', 'pasado_mes_de_mayo', 'mayo', '14_de_mayo', 'mayoría', 'mayoría', 'mayoría', 'mayor', 'apoyo', '14_de_mayo', 'mayoritario', 'mayoría', 'cuyos', 'apoyo', '25_de_mayo', 'yo', 'mayor', 'mayo', 'mayoría', 'mayoría', '14_de_mayo', 'cuyos', 'cuyo', 'rayos', 'rayos', 'suyo', 'mayor', 'ensayos', 'yo', 'yo', 'Lo_suyo', 'Lo_suyo', 'mayor', 'mayor', 'mayoría', 'mayoría', 'mayor', 'malayo', 'rayos', 'rayos', 'rayos', 'mayoría', 'rayos', 'rayos', 'Plaza_Mayor', 'yo', 'mayo_del_68', 'mayor', 'mayoría', 'mayoría', 'mayor', 'mayor', 'yo', 'apoyo', 'apoyo', 'lo_suyo', 'yo', 'uruguayo', 'mayor', 'escayolando', 'escayolado', 'yo', 'yo', 'yo', 'yo', 'mayores', 'mayoría', 'mayor', 'Buyo', 'yo', 'playoffs', 'cuyo', 'Buyo', 'Buyo', 'Buyo', 'mayor', 'mayor', 'mayor', 'mayores', 'apoyo', 'yo', 'mayoría', 'rayos_X', 'rayos', 'mayor', 'cuyos', 'mayor', 'mayor', 'cuyo', 'mayoría', 'mayor', 'mayores', 'mayoría', 'mayor', 'mayoría', 'mayor', 'mayor', 'mayor', 'mayor', 'mayor', 'ensayo', 'mayor', 'mayor', 'cuyo', 'cuyo', 'mayoría', 'mayor', 'mayor', 'rayos_X', 'rayos', 'ensayos', 'mayor', 'cuyo', 'ensayo', 'rayos', 'mayor', 'mayor', 'cuyos', 'mayor', 'rayos_X', 'mayor', 'mayoría', 'mayor', 'yodo', 'mayor', 'mayor', 'suyo', 'cuyo', 'lo_suyo', 'mayoría', 'yo', 'yo', 'cuyo', 'Ensayo_sobre_las_magnitudes_negativas', 'Ensayo_sobre_las_magnitudes_negativas', 'yo', 'yo', 'mayor', 'los_suyos', 'yo', 'yo', 'yo', 'mayoría', 'Plaza_Mayor', 'jueves_26_de_mayo', 'apoyo', 'los_suyos', 'los_suyos', 'mayoría', 'mayores', 'mes_de_mayo', 'cuyo', 'mayo', '14_de_mayo', 'yo', 'el_suyo', 'mayoría', 'suyo', 'mayor', 'cuyo', 'mayor-pradera', 'ensayos', 'rayo', 'hoyos', 'mayor', 'mayor', 'yo', 'El_Oso_Malayo', 'yo', 'yo', 'rayo', 'mayor', 'mayor', 'apoyo', 'yo', 'cuyos']\n"
          ]
        }
      ]
    },
    {
      "cell_type": "code",
      "source": [
        "arr2 = [w for w in flatten if re.search('so$', w)]  ## Al Utilizar el signo $ al final del caracter trae los que cumplan con la palabra solo al final\n",
        "print(arr2[0:15])"
      ],
      "metadata": {
        "colab": {
          "base_uri": "https://localhost:8080/"
        },
        "id": "VZdtBvFmb0b9",
        "outputId": "787db1ab-e129-4787-94aa-d10c38307e96"
      },
      "execution_count": 17,
      "outputs": [
        {
          "output_type": "stream",
          "name": "stdout",
          "text": [
            "['quiso', 'Congreso', 'eso', 'Congreso', 'regreso', 'impuso', 'contrapuso', 'escaso', 'ruso', 'retraso', 'ruso', 'fracaso', 'en_todo_caso', 'compromiso', 'progreso']\n"
          ]
        }
      ]
    },
    {
      "cell_type": "code",
      "source": [
        "arr3 = [w for w in flatten if re.search('^es', w)]  ## Al Utilizar el signo ^ al principio del caracter trae los que cumplan con la palabra solo al principio\n",
        "print(arr3[0:15])"
      ],
      "metadata": {
        "colab": {
          "base_uri": "https://localhost:8080/"
        },
        "id": "C5svRGricbHO",
        "outputId": "e6dcf1c9-aa6c-4291-ab5b-9e4817444e81"
      },
      "execution_count": 21,
      "outputs": [
        {
          "output_type": "stream",
          "name": "stdout",
          "text": [
            "['estatal', 'es', 'esta', 'esta', 'eso', 'es', 'especial', 'especialmente', 'este', 'estas', 'es', 'es', 'este', 'españolas', 'esta']\n"
          ]
        }
      ]
    },
    {
      "cell_type": "code",
      "source": [
        "arr4 = [w for w in flatten if re.search('^[ghi]', w)]  ## Rango [a-z] [ghi]\n",
        "print(arr4[0:15])"
      ],
      "metadata": {
        "colab": {
          "base_uri": "https://localhost:8080/"
        },
        "id": "e0K4oCCidrPh",
        "outputId": "c5deea93-5c70-445c-dbde-776dec0c8748"
      },
      "execution_count": 32,
      "outputs": [
        {
          "output_type": "stream",
          "name": "stdout",
          "text": [
            "['grupo', 'hoy', 'gas', 'gas', 'intervendrá', 'invertir', 'gas', 'hoy', 'insulto', 'intervención', 'hotel', 'gracias', 'hoy', 'generales', 'hombre']\n"
          ]
        }
      ]
    },
    {
      "cell_type": "code",
      "source": [
        "# Clausura\n",
        "# * repetir 0 o mas veces\n",
        "# + repetir 1 o mas veces"
      ],
      "metadata": {
        "id": "flKIB0T5doA6"
      },
      "execution_count": 33,
      "outputs": []
    },
    {
      "cell_type": "code",
      "source": [
        "arr5 = [w for w in flatten if re.search('^(yo)*', w)]\n",
        "print(arr5[0:15])"
      ],
      "metadata": {
        "colab": {
          "base_uri": "https://localhost:8080/"
        },
        "id": "-pCzrFwnegO6",
        "outputId": "8ae35cb6-494e-4f25-ad54-44608be93ff7"
      },
      "execution_count": 38,
      "outputs": [
        {
          "output_type": "stream",
          "name": "stdout",
          "text": [
            "['El', 'grupo', 'estatal', 'Electricité_de_France', '-Fpa-', 'EDF', '-Fpt-', 'anunció', 'hoy', ',', 'jueves', ',', 'la', 'compra', 'del']\n"
          ]
        }
      ]
    },
    {
      "cell_type": "markdown",
      "source": [
        "pattern = r'''(?x)                  # Flag para iniciar el modo verbose\n",
        "              (?:[A-Z]\\.)+            # Hace match con abreviaciones como U.S.A.\n",
        "              | \\w+(?:-\\w+)*         # Hace match con palabras que pueden tener un guión interno\n",
        "              | \\$?\\d+(?:\\.\\d+)?%?  # Hace match con dinero o porcentajes como $15.5 o 100%\n",
        "              | \\.\\.\\.              # Hace match con puntos suspensivos\n",
        "              | [][.,;\"'?():-_`]    # Hace match con signos de puntuación\n",
        "'''"
      ],
      "metadata": {
        "id": "ZsSstfKEncut"
      }
    },
    {
      "cell_type": "code",
      "source": [
        "print(r'\\n texto en raw con le r antepuesta')"
      ],
      "metadata": {
        "colab": {
          "base_uri": "https://localhost:8080/"
        },
        "id": "-x-UEZU_ozmQ",
        "outputId": "2b2b4c7d-e7c0-4201-c6ea-6dd9bd0028dd"
      },
      "execution_count": 41,
      "outputs": [
        {
          "output_type": "stream",
          "name": "stdout",
          "text": [
            "\\n texto en raw con le r antepuesta\n"
          ]
        }
      ]
    },
    {
      "cell_type": "code",
      "source": [
        "texto = 'El código no (solo debe funcionar y ser interpretado por la máquina que lo ejecuta, sino que también debe ser comprensible para otros desarrolladores, especialmente si se trabaja en proyectos colaborativos. Por lo tanto, en el ámbito del desarrollo de software, la legibilidad del código siempre es más importante que su concisión: no tiene sentido escribir un código conciso si el resto de desarrolladores no lo entienden. Un buen ejemplo de creación de código legible sería nombrar las variables. '\n"
      ],
      "metadata": {
        "id": "a-ePitvhpEQ_"
      },
      "execution_count": 49,
      "outputs": []
    },
    {
      "cell_type": "code",
      "source": [
        "#caso 1 ? tokenizar por espacios vacios\n",
        "print(re.split(r' ', texto))"
      ],
      "metadata": {
        "colab": {
          "base_uri": "https://localhost:8080/"
        },
        "id": "Up1_16t6pcVk",
        "outputId": "192e6da2-8ded-4e20-8400-69cf8e292158"
      },
      "execution_count": 50,
      "outputs": [
        {
          "output_type": "stream",
          "name": "stdout",
          "text": [
            "['El', 'código', 'no', '(solo', 'debe', 'funcionar', 'y', 'ser', 'interpretado', 'por', 'la', 'máquina', 'que', 'lo', 'ejecuta,', 'sino', 'que', 'también', 'debe', 'ser', 'comprensible', 'para', 'otros', 'desarrolladores,', 'especialmente', 'si', 'se', 'trabaja', 'en', 'proyectos', 'colaborativos.', 'Por', 'lo', 'tanto,', 'en', 'el', 'ámbito', 'del', 'desarrollo', 'de', 'software,', 'la', 'legibilidad', 'del', 'código', 'siempre', 'es', 'más', 'importante', 'que', 'su', 'concisión:', 'no', 'tiene', 'sentido', 'escribir', 'un', 'código', 'conciso', 'si', 'el', 'resto', 'de', 'desarrolladores', 'no', 'lo', 'entienden.', 'Un', 'buen', 'ejemplo', 'de', 'creación', 'de', 'código', 'legible', 'sería', 'nombrar', 'las', 'variables.', '']\n"
          ]
        }
      ]
    },
    {
      "cell_type": "code",
      "source": [
        "#Caso 2 Tokenizacion usando regex\n",
        "print(re.split(r'[ \\t\\n]+', texto))"
      ],
      "metadata": {
        "colab": {
          "base_uri": "https://localhost:8080/"
        },
        "id": "wX0nHt4opxJ-",
        "outputId": "12a2c361-87af-46e9-e244-17f458cf5a68"
      },
      "execution_count": 52,
      "outputs": [
        {
          "output_type": "stream",
          "name": "stdout",
          "text": [
            "['El', 'código', 'no', '(solo', 'debe', 'funcionar', 'y', 'ser', 'interpretado', 'por', 'la', 'máquina', 'que', 'lo', 'ejecuta,', 'sino', 'que', 'también', 'debe', 'ser', 'comprensible', 'para', 'otros', 'desarrolladores,', 'especialmente', 'si', 'se', 'trabaja', 'en', 'proyectos', 'colaborativos.', 'Por', 'lo', 'tanto,', 'en', 'el', 'ámbito', 'del', 'desarrollo', 'de', 'software,', 'la', 'legibilidad', 'del', 'código', 'siempre', 'es', 'más', 'importante', 'que', 'su', 'concisión:', 'no', 'tiene', 'sentido', 'escribir', 'un', 'código', 'conciso', 'si', 'el', 'resto', 'de', 'desarrolladores', 'no', 'lo', 'entienden.', 'Un', 'buen', 'ejemplo', 'de', 'creación', 'de', 'código', 'legible', 'sería', 'nombrar', 'las', 'variables.', '']\n"
          ]
        }
      ]
    },
    {
      "cell_type": "code",
      "source": [
        "#Caso 3 Eliminadno caracteres especiales\n",
        "print(re.split(r'[ \\W\\t\\n]+', texto))"
      ],
      "metadata": {
        "colab": {
          "base_uri": "https://localhost:8080/"
        },
        "id": "SbKMIqQUpxZH",
        "outputId": "f238215e-1d2c-49f5-ace2-360255229758"
      },
      "execution_count": 53,
      "outputs": [
        {
          "output_type": "stream",
          "name": "stdout",
          "text": [
            "['El', 'código', 'no', 'solo', 'debe', 'funcionar', 'y', 'ser', 'interpretado', 'por', 'la', 'máquina', 'que', 'lo', 'ejecuta', 'sino', 'que', 'también', 'debe', 'ser', 'comprensible', 'para', 'otros', 'desarrolladores', 'especialmente', 'si', 'se', 'trabaja', 'en', 'proyectos', 'colaborativos', 'Por', 'lo', 'tanto', 'en', 'el', 'ámbito', 'del', 'desarrollo', 'de', 'software', 'la', 'legibilidad', 'del', 'código', 'siempre', 'es', 'más', 'importante', 'que', 'su', 'concisión', 'no', 'tiene', 'sentido', 'escribir', 'un', 'código', 'conciso', 'si', 'el', 'resto', 'de', 'desarrolladores', 'no', 'lo', 'entienden', 'Un', 'buen', 'ejemplo', 'de', 'creación', 'de', 'código', 'legible', 'sería', 'nombrar', 'las', 'variables', '']\n"
          ]
        }
      ]
    },
    {
      "cell_type": "code",
      "source": [
        "texto2 = '$15.50 E.U. KISS (del inglés keep it simple, stupid o “que sea sencillo, estúpido”) es uno de los principios del código limpio más antiguos, que ya utilizaba el ejército estadounidense en la década de 1960. KISS recuerda a los desarrolladores que el código debe ser lo más sencillo posible, evitando cualquier complejidad innecesaria. En programación, nunca hay una única manera de resolver un problema. Las tareas siempre pueden expresarse en diferentes lenguajes y formularse con distintos comandos. Por lo tanto, los programadores que siguen el principio KISS siempre deben preguntarse si podrían dar con una solución más simple a un problema en particular ...'\n",
        "print(re.split(r'[ \\W\\t\\n]+', texto2))"
      ],
      "metadata": {
        "colab": {
          "base_uri": "https://localhost:8080/"
        },
        "id": "dITfMRssqmvS",
        "outputId": "679024fa-b6f4-448c-95b4-893b3ba147ff"
      },
      "execution_count": 63,
      "outputs": [
        {
          "output_type": "stream",
          "name": "stdout",
          "text": [
            "['', '15', '50', 'E', 'U', 'KISS', 'del', 'inglés', 'keep', 'it', 'simple', 'stupid', 'o', 'que', 'sea', 'sencillo', 'estúpido', 'es', 'uno', 'de', 'los', 'principios', 'del', 'código', 'limpio', 'más', 'antiguos', 'que', 'ya', 'utilizaba', 'el', 'ejército', 'estadounidense', 'en', 'la', 'década', 'de', '1960', 'KISS', 'recuerda', 'a', 'los', 'desarrolladores', 'que', 'el', 'código', 'debe', 'ser', 'lo', 'más', 'sencillo', 'posible', 'evitando', 'cualquier', 'complejidad', 'innecesaria', 'En', 'programación', 'nunca', 'hay', 'una', 'única', 'manera', 'de', 'resolver', 'un', 'problema', 'Las', 'tareas', 'siempre', 'pueden', 'expresarse', 'en', 'diferentes', 'lenguajes', 'y', 'formularse', 'con', 'distintos', 'comandos', 'Por', 'lo', 'tanto', 'los', 'programadores', 'que', 'siguen', 'el', 'principio', 'KISS', 'siempre', 'deben', 'preguntarse', 'si', 'podrían', 'dar', 'con', 'una', 'solución', 'más', 'simple', 'a', 'un', 'problema', 'en', 'particular', '']\n"
          ]
        }
      ]
    },
    {
      "cell_type": "code",
      "source": [
        "pattern = r'''(?x)                  # Flag para iniciar el modo verbose\n",
        "              (?:[A-Z]\\.)+            # Hace match con abreviaciones como U.S.A.\n",
        "              | \\w+(?:-\\w+)*         # Hace match con palabras que pueden tener un guión interno\n",
        "              | \\$?\\d+(?:\\.\\d+)?%?  # Hace match con dinero o porcentajes como $15.5 o 100%\n",
        "              | \\.\\.\\.              # Hace match con puntos suspensivos\n",
        "              | [][.,;\"'?():-_`]    # Hace match con signos de puntuación\n",
        "'''"
      ],
      "metadata": {
        "id": "CH0ZlbUPrDtD"
      },
      "execution_count": 61,
      "outputs": []
    },
    {
      "cell_type": "code",
      "source": [
        "nltk.regexp_tokenize(texto2, pattern)"
      ],
      "metadata": {
        "colab": {
          "base_uri": "https://localhost:8080/"
        },
        "id": "YODlie5Aq-tV",
        "outputId": "af5f2b94-3e5d-45a0-f923-fc9356c5006b"
      },
      "execution_count": 64,
      "outputs": [
        {
          "output_type": "execute_result",
          "data": {
            "text/plain": [
              "['$15.50',\n",
              " 'E.U.',\n",
              " 'KISS',\n",
              " '(',\n",
              " 'del',\n",
              " 'inglés',\n",
              " 'keep',\n",
              " 'it',\n",
              " 'simple',\n",
              " ',',\n",
              " 'stupid',\n",
              " 'o',\n",
              " 'que',\n",
              " 'sea',\n",
              " 'sencillo',\n",
              " ',',\n",
              " 'estúpido',\n",
              " ')',\n",
              " 'es',\n",
              " 'uno',\n",
              " 'de',\n",
              " 'los',\n",
              " 'principios',\n",
              " 'del',\n",
              " 'código',\n",
              " 'limpio',\n",
              " 'más',\n",
              " 'antiguos',\n",
              " ',',\n",
              " 'que',\n",
              " 'ya',\n",
              " 'utilizaba',\n",
              " 'el',\n",
              " 'ejército',\n",
              " 'estadounidense',\n",
              " 'en',\n",
              " 'la',\n",
              " 'década',\n",
              " 'de',\n",
              " '1960',\n",
              " '.',\n",
              " 'KISS',\n",
              " 'recuerda',\n",
              " 'a',\n",
              " 'los',\n",
              " 'desarrolladores',\n",
              " 'que',\n",
              " 'el',\n",
              " 'código',\n",
              " 'debe',\n",
              " 'ser',\n",
              " 'lo',\n",
              " 'más',\n",
              " 'sencillo',\n",
              " 'posible',\n",
              " ',',\n",
              " 'evitando',\n",
              " 'cualquier',\n",
              " 'complejidad',\n",
              " 'innecesaria',\n",
              " '.',\n",
              " 'En',\n",
              " 'programación',\n",
              " ',',\n",
              " 'nunca',\n",
              " 'hay',\n",
              " 'una',\n",
              " 'única',\n",
              " 'manera',\n",
              " 'de',\n",
              " 'resolver',\n",
              " 'un',\n",
              " 'problema',\n",
              " '.',\n",
              " 'Las',\n",
              " 'tareas',\n",
              " 'siempre',\n",
              " 'pueden',\n",
              " 'expresarse',\n",
              " 'en',\n",
              " 'diferentes',\n",
              " 'lenguajes',\n",
              " 'y',\n",
              " 'formularse',\n",
              " 'con',\n",
              " 'distintos',\n",
              " 'comandos',\n",
              " '.',\n",
              " 'Por',\n",
              " 'lo',\n",
              " 'tanto',\n",
              " ',',\n",
              " 'los',\n",
              " 'programadores',\n",
              " 'que',\n",
              " 'siguen',\n",
              " 'el',\n",
              " 'principio',\n",
              " 'KISS',\n",
              " 'siempre',\n",
              " 'deben',\n",
              " 'preguntarse',\n",
              " 'si',\n",
              " 'podrían',\n",
              " 'dar',\n",
              " 'con',\n",
              " 'una',\n",
              " 'solución',\n",
              " 'más',\n",
              " 'simple',\n",
              " 'a',\n",
              " 'un',\n",
              " 'problema',\n",
              " 'en',\n",
              " 'particular',\n",
              " '...']"
            ]
          },
          "metadata": {},
          "execution_count": 64
        }
      ]
    }
  ]
}